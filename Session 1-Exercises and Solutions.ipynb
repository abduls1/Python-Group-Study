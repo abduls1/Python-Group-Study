{
 "cells": [
  {
   "cell_type": "markdown",
   "metadata": {},
   "source": [
    "<h1 style=\"color:Green; text-align: left\"><u>Session 1 Exercises</u></h1>"
   ]
  },
  {
   "cell_type": "markdown",
   "metadata": {},
   "source": [
    "## Question 1: Given a number 'n', output its factorial using reduce()."
   ]
  },
  {
   "cell_type": "markdown",
   "metadata": {},
   "source": [
    "Note: Make sure you handle the edge case of zero. As you know, 0! = 1\n",
    "\n",
    "P.S.: Finding the factorial without using the reduce() function might lead to deduction of marks.\n",
    "\n",
    "Examples:\n",
    "Input 1:\n",
    "1\n",
    "Output 1:\n",
    "1\n",
    "\n",
    "Input 2:\n",
    "3\n",
    "Output 2:\n",
    "6"
   ]
  },
  {
   "cell_type": "markdown",
   "metadata": {},
   "source": [
    "### Solution #1:"
   ]
  },
  {
   "cell_type": "code",
   "execution_count": 7,
   "metadata": {},
   "outputs": [
    {
     "name": "stdout",
     "output_type": "stream",
     "text": [
      "Enter a Integer Number to calculate the Factorial: 0\n",
      "The Factorial of 0 is 1\n"
     ]
    }
   ],
   "source": [
    "# 1: Native Method\n",
    "\n",
    "n = int(input(\"Enter a Integer Number to calculate the Factorial: \"))\n",
    "fact = 1\n",
    "\n",
    "for i in range(1,n+1):\n",
    "    fact = fact * i\n",
    "    \n",
    "print(\"The Factorial of {} is {}\".format(n,fact))"
   ]
  },
  {
   "cell_type": "code",
   "execution_count": 9,
   "metadata": {},
   "outputs": [
    {
     "name": "stdout",
     "output_type": "stream",
     "text": [
      "Enter a Integer Number to calculate the Factorial: 5\n"
     ]
    },
    {
     "data": {
      "text/plain": [
       "120"
      ]
     },
     "execution_count": 9,
     "metadata": {},
     "output_type": "execute_result"
    }
   ],
   "source": [
    "# 2: Using Reduce()\n",
    "from functools import reduce\n",
    "n = int(input(\"Enter a Integer Number to calculate the Factorial: \"))\n",
    "li = [x for x in range(1,n+1)]\n",
    "reduce((lambda x,y: x*y), li)"
   ]
  },
  {
   "cell_type": "markdown",
   "metadata": {},
   "source": [
    "## Question 2: \n",
    "In a school, there are total 20 students numbered from 1 to 20. You’re given three lists named ‘C’, ‘F’, and ‘H’, representing students who play cricket, football, and hockey, respectively. Based on this information, find out and print the following: \n",
    "Students who play all the three sports\n",
    "Students who play both cricket and football but don’t play hockey\n",
    "Students who play exactly two of the sports\n",
    "Students who don’t play any of the three sports\n",
    "Format:\n",
    "Input:\n",
    "3 lists containing numbers (ranging from 1 to 20) representing students who play cricket, football and hockey respectively.\n",
    "Output:\n",
    "4 different lists containing the students according to the constraints provided in the questions.\n",
    "\n",
    "Note: Make sure you sort the final lists (in an ascending order) that you get before printing them; otherwise your answer might not match the test-cases.\n",
    "\n",
    "Examples:\n",
    "Input 1:\n",
    "[2, 5, 9, 12, 13, 15, 16, 17, 18, 19]\n",
    "[2, 4, 5, 6, 7, 9, 13, 16, 20]\n",
    "[1, 2, 5, 9, 10, 11, 12, 13, 15, 20] \n",
    "Output 1:\n",
    "[2, 5, 9, 13]\n",
    "[16]\n",
    "[12, 15, 16, 20]\n",
    "[3, 8, 14]\n",
    "\n",
    "Explanation:\n",
    "1.Given the three sets, you can see that the students numbered '2', '5', '9', and '13' play all the three sports. \n",
    "2. The student numbered '16' plays cricket and football but doesn't play hockey. \n",
    "3. The students numbered '12' and '15' play cricket and hockey, the student numbered '16' plays cricket and football and the student numbered '20' plays football and hockey.  Hence, the students who play exactly two sports are 12, 15, 16, and 20.\n",
    "4. As you can see, the students who play none of the sports are 3, 8, and 14."
   ]
  },
  {
   "cell_type": "markdown",
   "metadata": {},
   "source": [
    "### Solution #2:"
   ]
  },
  {
   "cell_type": "code",
   "execution_count": 58,
   "metadata": {},
   "outputs": [
    {
     "name": "stdout",
     "output_type": "stream",
     "text": [
      "Students who play all the three Sports are: \n",
      "[2, 5, 9, 13]\n",
      "Students who play both Cricket and Football Sports, but not Hockey are: \n",
      "[16]\n",
      "Students who only two Sports(Any) are: \n",
      "[12, 15, 16, 20]\n",
      "Students who doesn't play any of the Sports are: \n",
      "[3, 8, 14]\n"
     ]
    }
   ],
   "source": [
    "all_students = list(range(1,21))\n",
    "\n",
    "C = [2, 5, 9, 12, 13, 15, 16, 17, 18, 19]\n",
    "F = [2, 4, 5, 6, 7, 9, 13, 16, 20]\n",
    "H = [1, 2, 5, 9, 10, 11, 12, 13, 15, 20] \n",
    "\n",
    "#Students who play all the three sports:\n",
    "students_all_sports = [x for x in C if x in F if x in H]\n",
    "students_all_sports.sort()\n",
    "print(\"Students who play all the three Sports are: \\n{}\".format(students_all_sports))\n",
    "\n",
    "#Students who play both cricket and football but don’t play hockey\n",
    "students_C_F = [x for x in C if x in F if x not in H]\n",
    "students_C_F.sort()\n",
    "print(\"Students who play both Cricket and Football Sports, but not Hockey are: \\n{}\".format(students_C_F))\n",
    "\n",
    "#Students who play exactly two of the sports\n",
    "all_sports = C + F + H\n",
    "#students_dict = {i:all_sports.count(i) for i in all_sports}\n",
    "\n",
    "students_set = list(set(i for i in all_sports if all_sports.count(i)==2)) # Get the elements which has counts == 2\n",
    "students_set.sort()\n",
    "print(\"Students who only two Sports(Any) are: \\n{}\".format(students_set))\n",
    "\n",
    "#print(students_dict)\n",
    "#Students who don’t play any of the three sports\n",
    "student_not_playing = [x for x in all_students if x not in all_sports]\n",
    "student_not_playing.sort()\n",
    "print(\"Students who doesn't play any of the Sports are: \\n{}\".format(student_not_playing))\n"
   ]
  },
  {
   "cell_type": "code",
   "execution_count": 16,
   "metadata": {},
   "outputs": [
    {
     "data": {
      "text/plain": [
       "[2, 5, 9, 13]"
      ]
     },
     "execution_count": 16,
     "metadata": {},
     "output_type": "execute_result"
    }
   ],
   "source": [
    "all_sports"
   ]
  },
  {
   "cell_type": "markdown",
   "metadata": {},
   "source": [
    "## Question 3: Armstrong Number\n",
    "#### Description:\n",
    "Any number, say n is called an Armstrong number if it is equal to the sum of its digits, where each is raised to the power of number of digits in n.\n",
    "For example:\n",
    "153=13+53+33\n",
    "\n",
    "Write Python code to determine whether an entered three digit number is an Armstrong number or not. \n",
    "Assume that the number entered will strictly be a three digit number.\n",
    "Print \"True\" if it is an Armstrong number and print \"False\" if it is not.\n",
    "\n",
    "Sample Input:\n",
    "\n",
    "153\n",
    "\n",
    "Sample Output:\n",
    "\n",
    "True\n"
   ]
  },
  {
   "cell_type": "markdown",
   "metadata": {},
   "source": [
    "### Solution #3"
   ]
  },
  {
   "cell_type": "code",
   "execution_count": 69,
   "metadata": {},
   "outputs": [
    {
     "name": "stdout",
     "output_type": "stream",
     "text": [
      "Enter a Number and check if this is an Armstrong Number: 111\n",
      "False\n"
     ]
    }
   ],
   "source": [
    "num = input(\"Enter a Number and check if this is an Armstrong Number: \")\n",
    "\n",
    "digits = len(num)\n",
    "list_digits = [x for x in num]\n",
    "sum = 0\n",
    "\n",
    "for i in list_digits:\n",
    "    sum = sum + (int(i) ** int(digits))\n",
    "\n",
    "if sum == int(num):\n",
    "    print(True)\n",
    "else:\n",
    "    print(False)\n"
   ]
  },
  {
   "cell_type": "markdown",
   "metadata": {},
   "source": [
    "## Question 4: Compute and display Fibonacci series upto n terms where n is a positive integer entered by the user.\n",
    "\n",
    "Sample Input:\n",
    "5\n",
    "Sample Output:\n",
    "0\n",
    "1\n",
    "1\n",
    "2\n",
    "3"
   ]
  },
  {
   "cell_type": "markdown",
   "metadata": {},
   "source": [
    "###  Solution #4"
   ]
  },
  {
   "cell_type": "markdown",
   "metadata": {},
   "source": [
    "num = int(input(\"Enter a number to display Fibonacci Series upto this number: \"))\n",
    "a = 0\n",
    "b = 1\n",
    "\n",
    "if num <=0:\n",
    "    print(\"Enter a valid number\")\n",
    "elif num == 1:\n",
    "    print(a)\n",
    "else:\n",
    "    for i in range(num):\n",
    "        print(a)\n",
    "        c = a + b\n",
    "        a = b\n",
    "        b = c"
   ]
  },
  {
   "cell_type": "markdown",
   "metadata": {},
   "source": [
    "## Question 5: Sum of Prime Numbers\n",
    "Sum of Primes\n",
    "Write python code to find the sum of prime numbers from 2 to n where n is a positive integer entered by the user.\n",
    "Note: n can be non-prime or prime. You have to find sum of primes till n and not sum of n prime numbers. i.e. for input 10, output should be 17.\n",
    "Hint: You can try using lambda functions and comprehensions to reduce the lines of code you have to write.\n",
    "Sample Input:\n",
    "5\n",
    "Sample Output:\n",
    "10"
   ]
  },
  {
   "cell_type": "markdown",
   "metadata": {},
   "source": [
    "### Solution #5"
   ]
  },
  {
   "cell_type": "code",
   "execution_count": 11,
   "metadata": {},
   "outputs": [
    {
     "name": "stdout",
     "output_type": "stream",
     "text": [
      "Enter a Integer Number to find the sum of Prime Number within: 5\n",
      "Sum of all the prime numbers within 5 is 10\n"
     ]
    }
   ],
   "source": [
    "num = int(input(\"Enter a Integer Number to find the sum of Prime Number within: \"))\n",
    "\n",
    "sum = 0\n",
    "for i in range(2,num+1):\n",
    "    if all(i%x != 0 for x in range(2,i)): #The all() function returns True if all items in an iterable are true otherwise returns fa\n",
    "        sum = sum + i\n",
    "        \n",
    "print(\"Sum of all the prime numbers within {} is {}\".format(num, sum))"
   ]
  },
  {
   "cell_type": "markdown",
   "metadata": {},
   "source": [
    "## Question 6: Write a Python Program to divide a given list into chunks of size k\n",
    "Write a Python program to divide a given list into chunks of size k.\n",
    "\n",
    "The number of elements in the list need not to be divisible by k.\n",
    "For example, if you want to divide the list [1,2,3,4,5,6,7] into chunk size k=4, then the first chunk will be [1,2,3,4] and the second one will have [5,6,7]. i.e. the last chunk need not have k elements.\n",
    "The input will have two lines, the first line would have the list and the second line would have the value of k.(the code for taking input has already been written, you should not change that)\n",
    "The final output should have the list chunks in different lines.\n",
    "\n",
    "Sample Input:\n",
    "[1,2,3,4,5,6,7,8,9]\n",
    "3\n",
    "Sample Output:\n",
    " \n",
    "[1, 2, 3]\n",
    "[4, 5, 6]\n",
    "[7, 8, 9]"
   ]
  },
  {
   "cell_type": "markdown",
   "metadata": {},
   "source": [
    "### Solution #6"
   ]
  },
  {
   "cell_type": "code",
   "execution_count": 14,
   "metadata": {},
   "outputs": [
    {
     "name": "stdout",
     "output_type": "stream",
     "text": [
      "[1, 2, 3]\n",
      "[4, 5, 6]\n",
      "[7, 8, 9]\n",
      "[10]\n"
     ]
    }
   ],
   "source": [
    "sample_list = [1,2,3,4,5,6,7,8,9,10]\n",
    "\n",
    "for i in range(0, len(sample_list), 3): \n",
    "    print(sample_list[i:i+3])"
   ]
  },
  {
   "cell_type": "markdown",
   "metadata": {},
   "source": [
    "## Question 7: Given a list of numbers, find the second largest number in the list\n",
    "Given a list of numbers, find the second largest number in the list. \n",
    "\n",
    "Note: There might be repeated numbers in the list. If there is only one number present in the list, return 'not present'.\n",
    "\n",
    "Examples:\n",
    "Input 1:\n",
    "[7, 2, 0, 9, -1, 8]\n",
    "Output 1:\n",
    "8\n",
    "\n",
    "Input 2:\n",
    "[3, 1, 4, 4, 5, 5, 5, 0, 2, 2]\n",
    "Output 2:\n",
    "4\n",
    "\n",
    "Input 2:\n",
    "[6, 6, 6, 6, 6]\n",
    "Output 2:\n",
    "not present"
   ]
  },
  {
   "cell_type": "markdown",
   "metadata": {},
   "source": [
    "## Solution #7"
   ]
  },
  {
   "cell_type": "code",
   "execution_count": 22,
   "metadata": {},
   "outputs": [
    {
     "name": "stdout",
     "output_type": "stream",
     "text": [
      "Second Largest element is: 9\n"
     ]
    }
   ],
   "source": [
    "sample_list = [7,2,0,9,-1,8, 10]\n",
    "\n",
    "first_max = max(sample_list[0], sample_list[1])\n",
    "second_max = min(sample_list[0], sample_list[1])\n",
    "\n",
    "for x in range(2, len(sample_list)):\n",
    "    if sample_list[x]>first_max:\n",
    "        second_max = first_max\n",
    "        first_max = sample_list[x]\n",
    "    elif sample_list[x]>second_max:\n",
    "        second_max = sample_list[x]\n",
    "print(\"Second Largest element is: {}\".format(second_max))\n",
    "    \n"
   ]
  },
  {
   "cell_type": "markdown",
   "metadata": {},
   "source": [
    "## Question 8: A Pascal's Triangle\n",
    "A pascal's triangle is a very interesting mathematical concept.\n",
    "Each number here is a sum of the two numbers directly above it.\n",
    "Following is an 8 level Pascal's triangle:﻿﻿\n",
    "\n",
    "Your task is to print an nth level of Pascal's triangle.\n",
    "The input will contain an integer n.\n",
    "The output will contain 1 line of the list of numbers representing the nth row of Pascal's triangle."
   ]
  },
  {
   "cell_type": "markdown",
   "metadata": {},
   "source": [
    "### Solution #8"
   ]
  },
  {
   "cell_type": "code",
   "execution_count": null,
   "metadata": {},
   "outputs": [],
   "source": []
  }
 ],
 "metadata": {
  "kernelspec": {
   "display_name": "Python 3",
   "language": "python",
   "name": "python3"
  },
  "language_info": {
   "codemirror_mode": {
    "name": "ipython",
    "version": 3
   },
   "file_extension": ".py",
   "mimetype": "text/x-python",
   "name": "python",
   "nbconvert_exporter": "python",
   "pygments_lexer": "ipython3",
   "version": "3.7.4"
  }
 },
 "nbformat": 4,
 "nbformat_minor": 2
}
